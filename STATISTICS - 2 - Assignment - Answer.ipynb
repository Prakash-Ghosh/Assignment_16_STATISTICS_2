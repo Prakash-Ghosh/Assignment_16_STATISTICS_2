{
 "cells": [
  {
   "cell_type": "markdown",
   "metadata": {},
   "source": [
    "# STATISTICS - 2 - Assignment\n",
    "## By Prakash Ghosh\n",
    "---"
   ]
  },
  {
   "cell_type": "code",
   "execution_count": 1,
   "metadata": {},
   "outputs": [],
   "source": [
    "# import the libraries\n",
    "import pandas as pd\n",
    "import numpy as np\n",
    "import scipy as sci\n",
    "import matplotlib.pyplot as plt\n",
    "import math \n",
    "from scipy.stats import binom"
   ]
  },
  {
   "cell_type": "markdown",
   "metadata": {},
   "source": [
    "### Problem Statement 1: \n",
    "#### A test is conducted which is consisting of 20 MCQs (multiple choices questions) with every MCQ having its four options out of which only one is correct. Determine the probability that a person undertaking that test has answered exactly 5 questions wrong."
   ]
  },
  {
   "cell_type": "code",
   "execution_count": 26,
   "metadata": {},
   "outputs": [
    {
     "name": "stdout",
     "output_type": "stream",
     "text": [
      "Probality of wrong answer of a single question:\t 0.75\n",
      "\n",
      "Probality of 5 wrong answers\n",
      "----------------------------\n",
      "\n",
      "Solution -1 - Mathemetical Model\n",
      "\t Using Formula: 20C5 * power((1-p_wrong_answer),15) * power(p_wrong_answer, 5)\n",
      "\n",
      "Probality of 5 wrong answers 3.4264958230778575e-06\n",
      "\n",
      "Solution -2 - Using scipy - probability mass function\n",
      "\t Using Formula: binom.pmf(5,total_num_of_question,p_wrong_answer)\n",
      "\n",
      "Probality of 5 wrong answers 3.4264958230778435e-06\n"
     ]
    }
   ],
   "source": [
    "# Define the variable \n",
    "total_num_of_question = 20\n",
    "\n",
    "# probality of wrong answer of a single question\n",
    "p_wrong_answer = 3/4  # as one of the 4 question is right\n",
    "print('Probality of wrong answer of a single question:\\t', p_wrong_answer)\n",
    "\n",
    "print('\\nProbality of 5 wrong answers')\n",
    "print('----------------------------')\n",
    "print('\\nSolution -1 - Mathemetical Model')\n",
    "print('\\t Using Formula: 20C5 * power((1-p_wrong_answer),15) * power(p_wrong_answer, 5)')\n",
    "\n",
    "p_five_wrong_answer = (math.factorial(20)/(math.factorial(15)*math.factorial(5))) \\\n",
    "                      * math.pow((1-p_wrong_answer),15) * math.pow(p_wrong_answer,5)\n",
    "print('\\nProbality of 5 wrong answers',p_five_wrong_answer)\n",
    "\n",
    "print('\\nSolution -2 - Using scipy - probability mass function')\n",
    "print('\\t Using Formula: binom.pmf(5,total_num_of_question,p_wrong_answer)')\n",
    "\n",
    "p_five_wrong_answer=binom.pmf(5,total_num_of_question,p_wrong_answer)\n",
    "print('\\nProbality of 5 wrong answers',p_five_wrong_answer)"
   ]
  },
  {
   "cell_type": "markdown",
   "metadata": {},
   "source": [
    "### Problem Statement 2:\n",
    "#### A die marked A to E is rolled 50 times. Find the probability of getting a “D” exactly 5 times."
   ]
  },
  {
   "cell_type": "code",
   "execution_count": 29,
   "metadata": {},
   "outputs": [
    {
     "name": "stdout",
     "output_type": "stream",
     "text": [
      "Probality of getting D in single roll:\t 0.2\n",
      "\n",
      "Probality of getting D exactly 5 times\n",
      "--------------------------------------\n",
      "\n",
      "Solution -1 - Mathemetical Model\n",
      "\t Using Formula: 50C5 * power((1-p_D),45) * power(p_D, 5)\n",
      "\n",
      "Probality of getting D exactly 5 times 0.029531204310524292\n",
      "\n",
      "Solution -2 - Using scipy - probability mass function\n",
      "\t Using Formula: binom.pmf(5,total_num_of_roll,p_D)\n",
      "\n",
      "Probality of 5 wrong answers 0.029531204310523224\n"
     ]
    }
   ],
   "source": [
    "# Define the variable \n",
    "total_num_of_roll = 50\n",
    "\n",
    "# probality of getting D in single roll \n",
    "p_D = 1/5  # as in a roll, D has equal chance among A to E\n",
    "print('Probality of getting D in single roll:\\t', p_D)\n",
    "\n",
    "print('\\nProbality of getting D exactly 5 times')\n",
    "print('--------------------------------------')\n",
    "print('\\nSolution -1 - Mathemetical Model')\n",
    "print('\\t Using Formula: 50C5 * power((1-p_D),45) * power(p_D, 5)')\n",
    "\n",
    "p_five_D = (math.factorial(50)/(math.factorial(45)*math.factorial(5))) \\\n",
    "                      * math.pow((1-p_D),45) * math.pow(p_D,5)\n",
    "print('\\nProbality of getting D exactly 5 times',p_five_D)\n",
    "\n",
    "print('\\nSolution -2 - Using scipy - probability mass function')\n",
    "print('\\t Using Formula: binom.pmf(5,total_num_of_roll,p_D)')\n",
    "\n",
    "p_five_D=binom.pmf(5,total_num_of_roll,p_D)\n",
    "print('\\nProbality of 5 wrong answers',p_five_D)"
   ]
  },
  {
   "cell_type": "markdown",
   "metadata": {},
   "source": [
    "### Problem Statement 3:\n",
    "#### Two balls are drawn at random in succession without replacement from an urn containing 4 red balls and 6 black balls. Find the probabilities of all the possible outcomes."
   ]
  },
  {
   "cell_type": "code",
   "execution_count": 49,
   "metadata": {},
   "outputs": [
    {
     "name": "stdout",
     "output_type": "stream",
     "text": [
      "  Color  Probablity\n",
      "0    RR    0.133333\n",
      "1    RB    0.266667\n",
      "2    BR    0.266667\n",
      "3    BB    0.333333\n"
     ]
    },
    {
     "data": {
      "image/png": "[encoded data removed]",
      "text/plain": [
       "<Figure size 432x288 with 1 Axes>"
      ]
     },
     "metadata": {},
     "output_type": "display_data"
    }
   ],
   "source": [
    "# Define the variable \n",
    "total_num_of_balls = 10\n",
    "num_of_red_balls = 4\n",
    "num_of_black_balls = 6\n",
    "\n",
    "# Two balls are drawn at random in succession without replacement\n",
    "\n",
    "# If Red ball is denoted by R and Balck ball is denoted by B then\n",
    "# Possible outcome - RR, RB, BR, BB\n",
    "\n",
    "# probability of first ball red = 4/10\n",
    "# probability of second ball red = 3/9 [when first ball is red]\n",
    "# probability of second ball red = 4/9 [when first ball is black]\n",
    "\n",
    "# probability of first ball black = 6/10\n",
    "# probability of second ball black = 5/9 [when first ball is black]\n",
    "# probability of second ball black = 6/9 [when first ball is red]\n",
    "\n",
    "probablity_RR = (4/10) * (3/9)\n",
    "probablity_RB = (4/10) * (6/9)\n",
    "probablity_BR = (6/10) * (4/9)\n",
    "probablity_BB = (6/10) * (5/9)\n",
    "\n",
    "# Create a Dataframe with the Probability distribution and random variable\n",
    "\n",
    "lst_color=['RR','RB','BR','BB']\n",
    "\n",
    "df_probablity=pd.DataFrame({'Color':lst_color,\n",
    "                'Probablity':[probablity_RR,probablity_RB,probablity_BR,probablity_BB]})\n",
    "print(df_probablity)\n",
    "\n",
    "# Plot the Probabalitis distributions\n",
    "plt.bar(df_probablity.Color,df_probablity.Probablity,width=.3)\n",
    "plt.xlabel('Color of the Balls')\n",
    "plt.xticks(lst_color)\n",
    "plt.ylabel('Probabality')\n",
    "plt.title('\\nProbabalitis distribution Plot\\n')\n",
    "plt.show()"
   ]
  }
 ],
 "metadata": {
  "kernelspec": {
   "display_name": "Python 3",
   "language": "python",
   "name": "python3"
  },
  "language_info": {
   "codemirror_mode": {
    "name": "ipython",
    "version": 3
   },
   "file_extension": ".py",
   "mimetype": "text/x-python",
   "name": "python",
   "nbconvert_exporter": "python",
   "pygments_lexer": "ipython3",
   "version": "3.6.5"
  }
 },
 "nbformat": 4,
 "nbformat_minor": 2
}
